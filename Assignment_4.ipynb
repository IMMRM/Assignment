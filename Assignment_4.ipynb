{
 "cells": [
  {
   "cell_type": "markdown",
   "metadata": {},
   "source": [
    "# Assignment 4"
   ]
  },
  {
   "cell_type": "markdown",
   "metadata": {},
   "source": [
    "## Question 1: "
   ]
  },
  {
   "cell_type": "markdown",
   "metadata": {},
   "source": [
    "`1.1 Write a Python Program(with class concepts) to find the area of the triangle using the below\n",
    "formula.\n",
    "area = (s*(s-a)*(s-b)*(s-c)) ** 0.5\n",
    "Function to take the length of the sides of triangle from user should be defined in the parent\n",
    "class and function to calculate the area should be defined in subclass.`"
   ]
  },
  {
   "cell_type": "markdown",
   "metadata": {},
   "source": [
    "### Solution 1:"
   ]
  },
  {
   "cell_type": "code",
   "execution_count": 17,
   "metadata": {},
   "outputs": [
    {
     "name": "stdout",
     "output_type": "stream",
     "text": [
      "Enter the side a 5\n",
      "Enter the side b 5\n",
      "Enter the side c 5\n",
      "Area of triangle 10.825317547305483\n"
     ]
    }
   ],
   "source": [
    "class ParentClass:\n",
    "    def __init__(self,a,b,c):\n",
    "        self.a=a\n",
    "        self.b=b\n",
    "        self.c=c\n",
    "class CalculateClass(ParentClass):\n",
    "    def __init__(self,s,*args):\n",
    "        super(CalculateClass,self).__init__(*args)\n",
    "        self.s=s\n",
    "        self.area=(self.s*(self.s-self.a)*(self.s-self.b)*(self.s-self.c))**0.5\n",
    "        \n",
    "    def __str__(self):\n",
    "        return \"Area of triangle \"+str(self.area)\n",
    "        \n",
    "        \n",
    "    \n",
    "\n",
    "a=int(input(\"Enter the side a \"))\n",
    "b=int(input(\"Enter the side b \"))\n",
    "c=int(input(\"Enter the side c \"))\n",
    "s=(a+b+c)/2\n",
    "triangle=CalculateClass(s,a,b,c)\n",
    "print(triangle)\n",
    "    "
   ]
  },
  {
   "cell_type": "markdown",
   "metadata": {},
   "source": [
    "### Question 2:"
   ]
  },
  {
   "cell_type": "markdown",
   "metadata": {},
   "source": [
    "`Write a function filter_long_words() that takes a list of words and an integer n and returns\n",
    "the list of words that are longer than n.`"
   ]
  },
  {
   "cell_type": "code",
   "execution_count": 21,
   "metadata": {},
   "outputs": [
    {
     "name": "stdout",
     "output_type": "stream",
     "text": [
      "['abc', 'sd', 'kkkk', 'ghu']\n"
     ]
    }
   ],
   "source": [
    "def filter_long_words(a,n):\n",
    "    filter_list=[ i for i in a if(len(i)>n)]\n",
    "    print(filter_list)\n",
    "l=[\"abc\",\"sd\",\"kkkk\",\"ghu\"]\n",
    "filter_long_words(l,0)"
   ]
  },
  {
   "cell_type": "markdown",
   "metadata": {},
   "source": [
    "### Question 3:"
   ]
  },
  {
   "cell_type": "markdown",
   "metadata": {},
   "source": [
    "`Write a Python program using function concept that maps list of words into a list of integers\n",
    "representing the lengths of the corresponding words.\n",
    "Hint: If a list [ ab,cde,erty] is passed on to the python function output should come as [2,3,4]\n",
    "Here 2,3 and 4 are the lengths of the words in the list.`"
   ]
  },
  {
   "cell_type": "code",
   "execution_count": 23,
   "metadata": {},
   "outputs": [
    {
     "name": "stdout",
     "output_type": "stream",
     "text": [
      "[3, 1, 3, 5, 2]\n"
     ]
    }
   ],
   "source": [
    "def list_of_words(a):\n",
    "    int_list=[len(i) for i in a]\n",
    "    return int_list\n",
    "\n",
    "low=[\"abc\",\"a\",\"klu\",\"dsfsf\",\"gg\"]\n",
    "result=list_of_words(low)\n",
    "print(result)"
   ]
  },
  {
   "cell_type": "markdown",
   "metadata": {},
   "source": [
    "### Question 4"
   ]
  },
  {
   "cell_type": "markdown",
   "metadata": {},
   "source": [
    "`Write a Python function which takes a character (i.e. a string of length 1) and returns True if\n",
    "it is a vowel, False otherwise.`"
   ]
  },
  {
   "cell_type": "code",
   "execution_count": 27,
   "metadata": {},
   "outputs": [
    {
     "name": "stdout",
     "output_type": "stream",
     "text": [
      "Enter the character c\n",
      "False\n"
     ]
    }
   ],
   "source": [
    "def vowel_check(a):\n",
    "    vowels=['a','e','i','o','u']\n",
    "    if(a in vowels):\n",
    "        return True\n",
    "    else:\n",
    "        return False\n",
    "c=input(\"Enter the character \")\n",
    "result=vowel_check(c)\n",
    "print(result)\n"
   ]
  },
  {
   "cell_type": "code",
   "execution_count": null,
   "metadata": {},
   "outputs": [],
   "source": []
  }
 ],
 "metadata": {
  "kernelspec": {
   "display_name": "Python 3",
   "language": "python",
   "name": "python3"
  },
  "language_info": {
   "codemirror_mode": {
    "name": "ipython",
    "version": 3
   },
   "file_extension": ".py",
   "mimetype": "text/x-python",
   "name": "python",
   "nbconvert_exporter": "python",
   "pygments_lexer": "ipython3",
   "version": "3.7.4"
  }
 },
 "nbformat": 4,
 "nbformat_minor": 4
}
